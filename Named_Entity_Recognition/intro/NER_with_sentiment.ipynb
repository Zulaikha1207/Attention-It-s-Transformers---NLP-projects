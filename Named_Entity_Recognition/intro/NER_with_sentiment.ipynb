{
 "cells": [
  {
   "cell_type": "code",
   "execution_count": 1,
   "id": "5962f4b2",
   "metadata": {},
   "outputs": [
    {
     "name": "stderr",
     "output_type": "stream",
     "text": [
      "/Users/zulikahlatief/Desktop/personal/NLP/nlp/lib/python3.10/site-packages/tqdm/auto.py:21: TqdmWarning: IProgress not found. Please update jupyter and ipywidgets. See https://ipywidgets.readthedocs.io/en/stable/user_install.html\n",
      "  from .autonotebook import tqdm as notebook_tqdm\n"
     ]
    }
   ],
   "source": [
    "import pandas as pd\n",
    "import flair"
   ]
  },
  {
   "cell_type": "code",
   "execution_count": 2,
   "id": "f630e2b0",
   "metadata": {},
   "outputs": [],
   "source": [
    "model = flair.models.TextClassifier.load('en-sentiment')"
   ]
  },
  {
   "cell_type": "code",
   "execution_count": 3,
   "id": "4e968845",
   "metadata": {},
   "outputs": [
    {
     "data": {
      "text/plain": [
       "TextClassifier(\n",
       "  (embeddings): TransformerDocumentEmbeddings(\n",
       "    (model): DistilBertModel(\n",
       "      (embeddings): Embeddings(\n",
       "        (word_embeddings): Embedding(30522, 768, padding_idx=0)\n",
       "        (position_embeddings): Embedding(512, 768)\n",
       "        (LayerNorm): LayerNorm((768,), eps=1e-12, elementwise_affine=True)\n",
       "        (dropout): Dropout(p=0.1, inplace=False)\n",
       "      )\n",
       "      (transformer): Transformer(\n",
       "        (layer): ModuleList(\n",
       "          (0-5): 6 x TransformerBlock(\n",
       "            (attention): MultiHeadSelfAttention(\n",
       "              (dropout): Dropout(p=0.1, inplace=False)\n",
       "              (q_lin): Linear(in_features=768, out_features=768, bias=True)\n",
       "              (k_lin): Linear(in_features=768, out_features=768, bias=True)\n",
       "              (v_lin): Linear(in_features=768, out_features=768, bias=True)\n",
       "              (out_lin): Linear(in_features=768, out_features=768, bias=True)\n",
       "            )\n",
       "            (sa_layer_norm): LayerNorm((768,), eps=1e-12, elementwise_affine=True)\n",
       "            (ffn): FFN(\n",
       "              (dropout): Dropout(p=0.1, inplace=False)\n",
       "              (lin1): Linear(in_features=768, out_features=3072, bias=True)\n",
       "              (lin2): Linear(in_features=3072, out_features=768, bias=True)\n",
       "              (activation): GELUActivation()\n",
       "            )\n",
       "            (output_layer_norm): LayerNorm((768,), eps=1e-12, elementwise_affine=True)\n",
       "          )\n",
       "        )\n",
       "      )\n",
       "    )\n",
       "  )\n",
       "  (decoder): Linear(in_features=768, out_features=2, bias=True)\n",
       "  (dropout): Dropout(p=0.0, inplace=False)\n",
       "  (locked_dropout): LockedDropout(p=0.0)\n",
       "  (word_dropout): WordDropout(p=0.0)\n",
       "  (loss_function): CrossEntropyLoss()\n",
       ")"
      ]
     },
     "execution_count": 3,
     "metadata": {},
     "output_type": "execute_result"
    }
   ],
   "source": [
    "model"
   ]
  },
  {
   "cell_type": "code",
   "execution_count": 4,
   "id": "19e9048a",
   "metadata": {},
   "outputs": [],
   "source": [
    "def get_sentiment(text):\n",
    "    sentence = flair.data.Sentence(text)\n",
    "    model.predict(sentence)\n",
    "    sentiment = sentence.labels[0].score\n",
    "    return sentiment"
   ]
  },
  {
   "cell_type": "code",
   "execution_count": 5,
   "id": "093afa69",
   "metadata": {},
   "outputs": [
    {
     "name": "stdout",
     "output_type": "stream",
     "text": [
      "<class 'pandas.core.frame.DataFrame'>\n",
      "RangeIndex: 804 entries, 0 to 803\n",
      "Data columns (total 10 columns):\n",
      " #   Column         Non-Null Count  Dtype  \n",
      "---  ------         --------------  -----  \n",
      " 0   name           804 non-null    object \n",
      " 1   created_utc    804 non-null    float64\n",
      " 2   subreddit      804 non-null    object \n",
      " 3   title          804 non-null    object \n",
      " 4   selftext       804 non-null    object \n",
      " 5   upvote_ratio   804 non-null    float64\n",
      " 6   ups            804 non-null    int64  \n",
      " 7   downs          804 non-null    int64  \n",
      " 8   score          804 non-null    int64  \n",
      " 9   organizations  804 non-null    object \n",
      "dtypes: float64(2), int64(3), object(5)\n",
      "memory usage: 62.9+ KB\n"
     ]
    }
   ],
   "source": [
    "df = pd.read_csv('reddit_investing_ner.csv', sep='|')\n",
    "df.info()"
   ]
  },
  {
   "cell_type": "code",
   "execution_count": 6,
   "id": "2ad11806",
   "metadata": {},
   "outputs": [
    {
     "data": {
      "text/html": [
       "<div>\n",
       "<style scoped>\n",
       "    .dataframe tbody tr th:only-of-type {\n",
       "        vertical-align: middle;\n",
       "    }\n",
       "\n",
       "    .dataframe tbody tr th {\n",
       "        vertical-align: top;\n",
       "    }\n",
       "\n",
       "    .dataframe thead th {\n",
       "        text-align: right;\n",
       "    }\n",
       "</style>\n",
       "<table border=\"1\" class=\"dataframe\">\n",
       "  <thead>\n",
       "    <tr style=\"text-align: right;\">\n",
       "      <th></th>\n",
       "      <th>name</th>\n",
       "      <th>created_utc</th>\n",
       "      <th>subreddit</th>\n",
       "      <th>title</th>\n",
       "      <th>selftext</th>\n",
       "      <th>upvote_ratio</th>\n",
       "      <th>ups</th>\n",
       "      <th>downs</th>\n",
       "      <th>score</th>\n",
       "      <th>organizations</th>\n",
       "      <th>sentiment</th>\n",
       "    </tr>\n",
       "  </thead>\n",
       "  <tbody>\n",
       "    <tr>\n",
       "      <th>0</th>\n",
       "      <td>t3_13qkfat</td>\n",
       "      <td>1.684932e+09</td>\n",
       "      <td>investing</td>\n",
       "      <td>Exploration of the Arbitrage Co-movement Effec...</td>\n",
       "      <td>\\n\\nThere is very little doubt that exchange-...</td>\n",
       "      <td>0.50</td>\n",
       "      <td>0</td>\n",
       "      <td>0</td>\n",
       "      <td>0</td>\n",
       "      <td>[]</td>\n",
       "      <td>0.927749</td>\n",
       "    </tr>\n",
       "    <tr>\n",
       "      <th>1</th>\n",
       "      <td>t3_13qiqm6</td>\n",
       "      <td>1.684927e+09</td>\n",
       "      <td>investing</td>\n",
       "      <td>What’s the best artificial intelligence ETF to...</td>\n",
       "      <td>Hi,\\n\\ni want to add an AI ETF to my portfolio...</td>\n",
       "      <td>0.20</td>\n",
       "      <td>0</td>\n",
       "      <td>0</td>\n",
       "      <td>0</td>\n",
       "      <td>[]</td>\n",
       "      <td>0.823243</td>\n",
       "    </tr>\n",
       "    <tr>\n",
       "      <th>2</th>\n",
       "      <td>t3_13qh6aq</td>\n",
       "      <td>1.684922e+09</td>\n",
       "      <td>investing</td>\n",
       "      <td>When will the US debt become a real issue?</td>\n",
       "      <td>Hello all,  \\n\\nI noticed the USD 31 trillion ...</td>\n",
       "      <td>0.50</td>\n",
       "      <td>0</td>\n",
       "      <td>0</td>\n",
       "      <td>0</td>\n",
       "      <td>[]</td>\n",
       "      <td>0.509022</td>\n",
       "    </tr>\n",
       "    <tr>\n",
       "      <th>3</th>\n",
       "      <td>t3_13qh3p2</td>\n",
       "      <td>1.684922e+09</td>\n",
       "      <td>investing</td>\n",
       "      <td>I just put 50k on a roboadvisor</td>\n",
       "      <td>I am a (27m) very average basic investor with ...</td>\n",
       "      <td>0.60</td>\n",
       "      <td>1</td>\n",
       "      <td>0</td>\n",
       "      <td>1</td>\n",
       "      <td>[]</td>\n",
       "      <td>0.998010</td>\n",
       "    </tr>\n",
       "    <tr>\n",
       "      <th>4</th>\n",
       "      <td>t3_13qgtpy</td>\n",
       "      <td>1.684921e+09</td>\n",
       "      <td>investing</td>\n",
       "      <td>The Impact of Financial Crisis, Behavioral Bia...</td>\n",
       "      <td>In a hypothetical scenario where the financial...</td>\n",
       "      <td>0.22</td>\n",
       "      <td>0</td>\n",
       "      <td>0</td>\n",
       "      <td>0</td>\n",
       "      <td>[]</td>\n",
       "      <td>0.988111</td>\n",
       "    </tr>\n",
       "  </tbody>\n",
       "</table>\n",
       "</div>"
      ],
      "text/plain": [
       "         name   created_utc  subreddit   \n",
       "0  t3_13qkfat  1.684932e+09  investing  \\\n",
       "1  t3_13qiqm6  1.684927e+09  investing   \n",
       "2  t3_13qh6aq  1.684922e+09  investing   \n",
       "3  t3_13qh3p2  1.684922e+09  investing   \n",
       "4  t3_13qgtpy  1.684921e+09  investing   \n",
       "\n",
       "                                               title   \n",
       "0  Exploration of the Arbitrage Co-movement Effec...  \\\n",
       "1  What’s the best artificial intelligence ETF to...   \n",
       "2         When will the US debt become a real issue?   \n",
       "3                    I just put 50k on a roboadvisor   \n",
       "4  The Impact of Financial Crisis, Behavioral Bia...   \n",
       "\n",
       "                                            selftext  upvote_ratio  ups   \n",
       "0   \\n\\nThere is very little doubt that exchange-...          0.50    0  \\\n",
       "1  Hi,\\n\\ni want to add an AI ETF to my portfolio...          0.20    0   \n",
       "2  Hello all,  \\n\\nI noticed the USD 31 trillion ...          0.50    0   \n",
       "3  I am a (27m) very average basic investor with ...          0.60    1   \n",
       "4  In a hypothetical scenario where the financial...          0.22    0   \n",
       "\n",
       "   downs  score organizations  sentiment  \n",
       "0      0      0            []   0.927749  \n",
       "1      0      0            []   0.823243  \n",
       "2      0      0            []   0.509022  \n",
       "3      0      1            []   0.998010  \n",
       "4      0      0            []   0.988111  "
      ]
     },
     "execution_count": 6,
     "metadata": {},
     "output_type": "execute_result"
    }
   ],
   "source": [
    "df['sentiment'] = df['selftext'].apply(get_sentiment)\n",
    "df.head()"
   ]
  },
  {
   "cell_type": "code",
   "execution_count": 7,
   "id": "96cc8d83",
   "metadata": {},
   "outputs": [
    {
     "data": {
      "text/plain": [
       "0      0.927749\n",
       "1      0.823243\n",
       "2      0.509022\n",
       "3      0.998010\n",
       "4      0.988111\n",
       "         ...   \n",
       "799    0.999912\n",
       "800    0.771912\n",
       "801    0.971103\n",
       "802    0.990455\n",
       "803    0.995066\n",
       "Name: sentiment, Length: 804, dtype: float64"
      ]
     },
     "execution_count": 7,
     "metadata": {},
     "output_type": "execute_result"
    }
   ],
   "source": [
    "df['sentiment']"
   ]
  },
  {
   "cell_type": "code",
   "execution_count": 8,
   "id": "49d809c7",
   "metadata": {},
   "outputs": [],
   "source": [
    "import ast"
   ]
  },
  {
   "cell_type": "code",
   "execution_count": 9,
   "id": "23cb00f8",
   "metadata": {},
   "outputs": [],
   "source": [
    "df['organizations'] = df['organizations'].apply(lambda x: ast.literal_eval(x))"
   ]
  },
  {
   "cell_type": "code",
   "execution_count": 13,
   "id": "9f4e2968",
   "metadata": {},
   "outputs": [
    {
     "ename": "TypeError",
     "evalue": "'float' object is not iterable",
     "output_type": "error",
     "traceback": [
      "\u001b[0;31m---------------------------------------------------------------------------\u001b[0m",
      "\u001b[0;31mTypeError\u001b[0m                                 Traceback (most recent call last)",
      "Cell \u001b[0;32mIn[13], line 8\u001b[0m\n\u001b[1;32m      6\u001b[0m \u001b[38;5;28;01mif\u001b[39;00m org \u001b[38;5;129;01mnot\u001b[39;00m \u001b[38;5;129;01min\u001b[39;00m sentiment\u001b[38;5;241m.\u001b[39mkeys():\n\u001b[1;32m      7\u001b[0m     sentiment[org] \u001b[38;5;241m=\u001b[39m {\u001b[38;5;124m'\u001b[39m\u001b[38;5;124mPOSITIVE\u001b[39m\u001b[38;5;124m'\u001b[39m: [], \u001b[38;5;124m'\u001b[39m\u001b[38;5;124mNEGATIVE\u001b[39m\u001b[38;5;124m'\u001b[39m: []}\n\u001b[0;32m----> 8\u001b[0m \u001b[43msentiment\u001b[49m\u001b[43m[\u001b[49m\u001b[43morg\u001b[49m\u001b[43m]\u001b[49m\u001b[38;5;241;43m.\u001b[39;49m\u001b[43mupdate\u001b[49m\u001b[43m(\u001b[49m\u001b[43mscore\u001b[49m\u001b[43m)\u001b[49m\n",
      "\u001b[0;31mTypeError\u001b[0m: 'float' object is not iterable"
     ]
    }
   ],
   "source": [
    "sentiment = {}\n",
    "\n",
    "for i, row in df.iterrows():\n",
    "    score = row['sentiment']\n",
    "    for org in row['organizations']:\n",
    "        if org not in sentiment.keys():\n",
    "            sentiment[org] = {'POSITIVE': [], 'NEGATIVE': []}\n",
    "        sentiment[org].update(score)"
   ]
  },
  {
   "cell_type": "code",
   "execution_count": null,
   "id": "03eba549",
   "metadata": {},
   "outputs": [],
   "source": []
  }
 ],
 "metadata": {
  "kernelspec": {
   "display_name": "nlp_course",
   "language": "python",
   "name": "nlp_course"
  },
  "language_info": {
   "codemirror_mode": {
    "name": "ipython",
    "version": 3
   },
   "file_extension": ".py",
   "mimetype": "text/x-python",
   "name": "python",
   "nbconvert_exporter": "python",
   "pygments_lexer": "ipython3",
   "version": "3.10.9"
  }
 },
 "nbformat": 4,
 "nbformat_minor": 5
}
